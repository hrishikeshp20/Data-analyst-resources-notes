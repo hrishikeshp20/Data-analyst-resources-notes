{
 "cells": [
  {
   "cell_type": "code",
   "execution_count": null,
   "id": "cc3abf6a",
   "metadata": {},
   "outputs": [],
   "source": [
    "Stack- LIFO Data structure ( Last-in-First-out)"
   ]
  },
  {
   "cell_type": "code",
   "execution_count": null,
   "id": "84635f43",
   "metadata": {},
   "outputs": [],
   "source": [
    "- A stack is a linear data structure that stores items in a Last-In/\n",
    "  First-Out (LIFO) or First-In/Last-Out (FILO) manner. In stack, a \n",
    "  new element is added at one end and an element is removed from \n",
    "  that end only. The insert and delete operations are often called\n",
    "  push and pop.\n",
    "    \n",
    "- The biggest issue is that it can run into speed issues as it grows.\n",
    "  The items in the list are stored next to each other in memory, if\n",
    "  the stack grows bigger than the block of memory that currently holds\n",
    "  it, then Python needs to do some memory allocations.\n",
    "  This can lead to some append() calls taking much longer than other ones."
   ]
  },
  {
   "cell_type": "code",
   "execution_count": null,
   "id": "01f8b9d8",
   "metadata": {},
   "outputs": [],
   "source": [
    "The functions associated with stack are:\n",
    "\n",
    "empty() – Returns whether the stack is empty – Time Complexity: O(1)\n",
    "size() – Returns the size of the stack – Time Complexity: O(1)\n",
    "top() /peek()– Returns a reference to the topmost element of the \n",
    "               stack –Time Complexity:O(1)\n",
    "push(a) – Inserts the element ‘a’ at the top of the stack – \n",
    "          Time Complexity: O(1)\n",
    "pop() – Deletes the topmost element of the stack – Time Complexity: O(1)"
   ]
  },
  {
   "cell_type": "code",
   "execution_count": 1,
   "id": "0df5d128",
   "metadata": {},
   "outputs": [
    {
     "name": "stdout",
     "output_type": "stream",
     "text": [
      "['a']\n"
     ]
    }
   ],
   "source": [
    "stack = []\n",
    "stack.append('a')\n",
    "stack.append('b')\n",
    "\n",
    "stack.pop() #removes the last element or the top most one\n",
    "print(stack)"
   ]
  },
  {
   "cell_type": "code",
   "execution_count": null,
   "id": "9c4b1d57",
   "metadata": {},
   "outputs": [],
   "source": []
  },
  {
   "cell_type": "code",
   "execution_count": null,
   "id": "6bce5242",
   "metadata": {},
   "outputs": [],
   "source": [
    "Queue - FIFO Data strcuture (First-in-First-out)"
   ]
  },
  {
   "cell_type": "code",
   "execution_count": null,
   "id": "cd9d9129",
   "metadata": {},
   "outputs": [],
   "source": [
    "- Like stack, Queue is a linear data structure that stores items in\n",
    "  First In First Out (FIFO) manner. With a queue the least recently\n",
    "  added item is removed first. A good example of queue is any queue\n",
    "  of consumers for a resource where the consumer that came first is\n",
    "  served first."
   ]
  },
  {
   "cell_type": "code",
   "execution_count": null,
   "id": "59e8cb8b",
   "metadata": {},
   "outputs": [],
   "source": [
    "The operations associated with Queue are-\n",
    "Enqueue: Adds an item to the queue. If the queue is full, then it is \n",
    "         said to be an Overflow condition – Time Complexity : O(1)\n",
    "Dequeue: Removes an item from the queue. The items are popped in the\n",
    "         same order in which they are pushed. If the queue is empty,\n",
    "         then it is said to be an Underflow condition – Time Complexity\n",
    "         : O(1)\n",
    "Front:   Get the front item from queue – Time Complexity : O(1)\n",
    "Rear:    Get the last item from queue – Time Complexity : O(1)"
   ]
  },
  {
   "cell_type": "code",
   "execution_count": null,
   "id": "99acb63a",
   "metadata": {},
   "outputs": [],
   "source": [
    "Implementation using queue.Queue\n",
    "Queue is built-in module of Python which is used to implement a queue. \n",
    "queue.Queue(maxsize) initializes a variable to a maximum size of maxsize. \n",
    "A maxsize of zero ‘0’ means a infinite queue. This Queue follows FIFO rule. \n",
    "There are various functions available in this module: \n",
    " \n",
    "\n",
    "maxsize – Number of items allowed in the queue.\n",
    "empty() – Return True if the queue is empty, False otherwise.\n",
    "full() – Return True if there are maxsize items in the queue. If the queue was\n",
    "         initialized with maxsize=0 (the default), then full() never returns True.\n",
    "get() – Remove and return an item from the queue. If queue is empty, wait until \n",
    "        an item is available.\n",
    "get_nowait() – Return an item if one is immediately available, else raise QueueEmpty.\n",
    "put(item) – Put an item into the queue. If the queue is full, wait until a free\n",
    "            slot is available before adding the item.\n",
    "put_nowait(item) – Put an item into the queue without blocking. If no free slot\n",
    "                   is immediately available, raise QueueFull.\n",
    "qsize() – Return the number of items in the queue."
   ]
  },
  {
   "cell_type": "code",
   "execution_count": null,
   "id": "a23d3925",
   "metadata": {},
   "outputs": [],
   "source": []
  },
  {
   "cell_type": "code",
   "execution_count": null,
   "id": "029ead21",
   "metadata": {},
   "outputs": [],
   "source": [
    "Linked List"
   ]
  },
  {
   "cell_type": "code",
   "execution_count": null,
   "id": "e1ad6ce4",
   "metadata": {},
   "outputs": [],
   "source": [
    "LinkedList =  Nodes are in 2 parts (data + address)\n",
    "              Nodes are in non-consecutive memory locations\n",
    "              Elements are linked using pointers\n",
    "            \n",
    "advantages?\n",
    "1. Dynamic Data Structure (allocates needed memory while running)\n",
    "2. Insertion and Deletion of Nodes is easy. O(1) \n",
    "3. No/Low memory waste\n",
    "\n",
    "disadvantages?\n",
    "1. Greater memory usage (additional pointer)\n",
    " 2. No random access of elements (no index [i])\n",
    "3. Accessing/searching elements is more time consuming. O(n)\n",
    "  \n",
    "uses?\n",
    "1. implement Stacks/Queues\n",
    "2. GPS navigation\n",
    "3. music playlist"
   ]
  },
  {
   "cell_type": "code",
   "execution_count": null,
   "id": "b11836f3",
   "metadata": {},
   "outputs": [],
   "source": []
  },
  {
   "cell_type": "code",
   "execution_count": null,
   "id": "7ffcef08",
   "metadata": {},
   "outputs": [],
   "source": [
    "Dynamic Array"
   ]
  },
  {
   "cell_type": "code",
   "execution_count": null,
   "id": "e3d79d2f",
   "metadata": {},
   "outputs": [],
   "source": [
    "Dynamic Array(scaling array) - List\n",
    "Increases capacity if the array gets full.\n",
    "\n",
    "-Advantages\n",
    "1. Random access of elements (indexing)\n",
    "2. Good locality of reference and data cache utilization\n",
    "3. Easy to insert/delete at the end\n",
    "\n",
    "-Disadvantages\n",
    "1. Wastes more memory\n",
    "2. Shifting elements is time consuming\n",
    "3. Expanding/shrinking the array is time consuming"
   ]
  },
  {
   "cell_type": "code",
   "execution_count": null,
   "id": "1cebea8b",
   "metadata": {},
   "outputs": [],
   "source": []
  },
  {
   "cell_type": "code",
   "execution_count": null,
   "id": "7e968a2e",
   "metadata": {},
   "outputs": [],
   "source": [
    "Binary Search-\n",
    "takens an sorted array\n",
    "goes to middle value\n",
    "compares input value to middle\n",
    "if not same then compares input value to left of array\n",
    "if not same then drops all left values \n",
    "then right side array is considered as whole\n",
    "then whole array middle is compared to input value\n",
    "repeats process"
   ]
  },
  {
   "cell_type": "code",
   "execution_count": null,
   "id": "e235a902",
   "metadata": {},
   "outputs": [],
   "source": []
  },
  {
   "cell_type": "code",
   "execution_count": null,
   "id": "cf2eab37",
   "metadata": {},
   "outputs": [],
   "source": [
    "Bubble sort-\n",
    "compares first element to next\n",
    "if greater then stores greater element in temp memory block\n",
    "   then shifts smaller element to left side and puts greater\n",
    "    element to shifted elements position\n",
    "same is done till the array is sorted"
   ]
  }
 ],
 "metadata": {
  "kernelspec": {
   "display_name": "Python 3 (ipykernel)",
   "language": "python",
   "name": "python3"
  },
  "language_info": {
   "codemirror_mode": {
    "name": "ipython",
    "version": 3
   },
   "file_extension": ".py",
   "mimetype": "text/x-python",
   "name": "python",
   "nbconvert_exporter": "python",
   "pygments_lexer": "ipython3",
   "version": "3.11.3"
  }
 },
 "nbformat": 4,
 "nbformat_minor": 5
}
