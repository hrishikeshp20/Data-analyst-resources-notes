{
 "cells": [
  {
   "cell_type": "markdown",
   "id": "67e9ac7d",
   "metadata": {},
   "source": [
    "**SECTION 1 Python Revision**"
   ]
  },
  {
   "cell_type": "code",
   "execution_count": 20,
   "id": "4fd78972",
   "metadata": {},
   "outputs": [],
   "source": [
    "#Difference between .append and l\n",
    "mylist = [1,2,3,4]"
   ]
  },
  {
   "cell_type": "code",
   "execution_count": 21,
   "id": "3e3dd1c5",
   "metadata": {},
   "outputs": [],
   "source": [
    "mylist.append(\"d\")\n",
    "#adds the given value in list.\n",
    "#Note- the more you run this the more time it will add the value to list\n",
    "# run once it will add one 'd', run twice and it will add another'd' to the same list"
   ]
  },
  {
   "cell_type": "code",
   "execution_count": 22,
   "id": "60caf11a",
   "metadata": {},
   "outputs": [
    {
     "data": {
      "text/plain": [
       "[1, 2, 3, 4, 'd']"
      ]
     },
     "execution_count": 22,
     "metadata": {},
     "output_type": "execute_result"
    }
   ],
   "source": [
    "mylist"
   ]
  },
  {
   "cell_type": "code",
   "execution_count": 2,
   "id": "f7b42795",
   "metadata": {},
   "outputs": [
    {
     "data": {
      "text/plain": [
       "[1, 2, 3, 4]"
      ]
     },
     "execution_count": 2,
     "metadata": {},
     "output_type": "execute_result"
    }
   ],
   "source": [
    "#List\n",
    "a = [1,2,3,4]\n",
    "a"
   ]
  },
  {
   "cell_type": "code",
   "execution_count": 8,
   "id": "8053cde0",
   "metadata": {},
   "outputs": [
    {
     "data": {
      "text/plain": [
       "{'key1': 'a', 'key2': 'b'}"
      ]
     },
     "execution_count": 8,
     "metadata": {},
     "output_type": "execute_result"
    }
   ],
   "source": [
    "#Dictionary\n",
    "#key-value pair\n",
    "b = {'key1':'a','key2':'b'}\n",
    "b\n"
   ]
  },
  {
   "cell_type": "code",
   "execution_count": 10,
   "id": "6684510c",
   "metadata": {},
   "outputs": [
    {
     "data": {
      "text/plain": [
       "'b'"
      ]
     },
     "execution_count": 10,
     "metadata": {},
     "output_type": "execute_result"
    }
   ],
   "source": [
    "b['key2']"
   ]
  },
  {
   "cell_type": "code",
   "execution_count": 11,
   "id": "edbcc366",
   "metadata": {},
   "outputs": [
    {
     "data": {
      "text/plain": [
       "(1, 2, 3)"
      ]
     },
     "execution_count": 11,
     "metadata": {},
     "output_type": "execute_result"
    }
   ],
   "source": [
    "#Tuple\n",
    "c = (1,2,3)\n",
    "c"
   ]
  },
  {
   "cell_type": "code",
   "execution_count": 13,
   "id": "63e8218a",
   "metadata": {},
   "outputs": [
    {
     "data": {
      "text/plain": [
       "{1, 2, 3, 4}"
      ]
     },
     "execution_count": 13,
     "metadata": {},
     "output_type": "execute_result"
    }
   ],
   "source": [
    "#Sets\n",
    "#Doesnt include repeated values\n",
    "d = {1,2,1,2,3,4}\n",
    "d"
   ]
  },
  {
   "cell_type": "code",
   "execution_count": 18,
   "id": "f73f9c0a",
   "metadata": {},
   "outputs": [
    {
     "name": "stdout",
     "output_type": "stream",
     "text": [
      "1\n",
      "2\n",
      "3\n",
      "4\n",
      "5\n"
     ]
    }
   ],
   "source": [
    "#for loops\n",
    "seq = [1,2,3,4,5]\n",
    "for x in seq:\n",
    "    print(x)"
   ]
  },
  {
   "cell_type": "code",
   "execution_count": 24,
   "id": "b758d097",
   "metadata": {},
   "outputs": [
    {
     "name": "stdout",
     "output_type": "stream",
     "text": [
      "hi\n",
      "hi\n",
      "hi\n",
      "hi\n"
     ]
    }
   ],
   "source": [
    "#while loop\n",
    "i = 1\n",
    "while i<5:\n",
    "    print('hi')\n",
    "    i=1+i"
   ]
  },
  {
   "cell_type": "code",
   "execution_count": 25,
   "id": "29363cbe",
   "metadata": {},
   "outputs": [
    {
     "data": {
      "text/plain": [
       "range(0, 5)"
      ]
     },
     "execution_count": 25,
     "metadata": {},
     "output_type": "execute_result"
    }
   ],
   "source": [
    "#range\n",
    "range(5)"
   ]
  },
  {
   "cell_type": "code",
   "execution_count": 26,
   "id": "8d82ce74",
   "metadata": {},
   "outputs": [
    {
     "name": "stdout",
     "output_type": "stream",
     "text": [
      "0\n",
      "1\n",
      "2\n",
      "3\n",
      "4\n"
     ]
    }
   ],
   "source": [
    "for i in range(5):\n",
    "    print(i)"
   ]
  },
  {
   "cell_type": "code",
   "execution_count": 27,
   "id": "c016aed3",
   "metadata": {},
   "outputs": [
    {
     "data": {
      "text/plain": [
       "[0, 1, 2, 3, 4]"
      ]
     },
     "execution_count": 27,
     "metadata": {},
     "output_type": "execute_result"
    }
   ],
   "source": [
    "list(range(5))"
   ]
  },
  {
   "cell_type": "code",
   "execution_count": 29,
   "id": "090f7cfa",
   "metadata": {},
   "outputs": [
    {
     "name": "stdout",
     "output_type": "stream",
     "text": [
      "[1, 4, 9, 16]\n"
     ]
    }
   ],
   "source": [
    "#list comprehension\n",
    "out = []\n",
    "x = [1,2,3,4]\n",
    "for new in x:\n",
    "    out.append(new**2)\n",
    "print(out)"
   ]
  },
  {
   "cell_type": "code",
   "execution_count": 32,
   "id": "e29fd22a",
   "metadata": {},
   "outputs": [
    {
     "name": "stdout",
     "output_type": "stream",
     "text": [
      "[1, 4, 9, 16]\n"
     ]
    }
   ],
   "source": [
    "#to write above code in single line is called list comprehension\n",
    "out2=[new1**2 for new1 in x]\n",
    "#out2=[(final result you want) for variable in x]\n",
    "print(out2)"
   ]
  },
  {
   "cell_type": "code",
   "execution_count": 36,
   "id": "beb58b2a",
   "metadata": {},
   "outputs": [],
   "source": [
    "#functions\n",
    "#default name is the value is no arguement is passed to function or else it will throw error if users passes nothing to it\n",
    "def myfunc(name='default name'):\n",
    "    print(\"My name is {}\".format(name))"
   ]
  },
  {
   "cell_type": "code",
   "execution_count": 40,
   "id": "32c0b4d7",
   "metadata": {},
   "outputs": [
    {
     "name": "stdout",
     "output_type": "stream",
     "text": [
      "My name is default name\n",
      "My name is hrishi\n"
     ]
    }
   ],
   "source": [
    "myfunc()\n",
    "myfunc('hrishi')"
   ]
  },
  {
   "cell_type": "code",
   "execution_count": 41,
   "id": "c4448e2e",
   "metadata": {},
   "outputs": [],
   "source": [
    "def times2(var):\n",
    "    return var**2"
   ]
  },
  {
   "cell_type": "code",
   "execution_count": 50,
   "id": "72d389a5",
   "metadata": {},
   "outputs": [
    {
     "name": "stdout",
     "output_type": "stream",
     "text": [
      "[1, 4, 9, 16]\n"
     ]
    }
   ],
   "source": [
    "#function with list comprehension\n",
    "j = [1,2,3,4]\n",
    "out3= [(times2(v)) for v in j]\n",
    "print(out3)"
   ]
  },
  {
   "cell_type": "code",
   "execution_count": 47,
   "id": "f0a86f86",
   "metadata": {},
   "outputs": [
    {
     "name": "stdout",
     "output_type": "stream",
     "text": [
      "[1, 4, 9, 16]\n"
     ]
    }
   ],
   "source": [
    "out = []\n",
    "k = [1,2,3,4]\n",
    "for new in k:\n",
    "    out.append(times2(new))\n",
    "print(out)"
   ]
  },
  {
   "cell_type": "code",
   "execution_count": 55,
   "id": "6ab1c485",
   "metadata": {},
   "outputs": [
    {
     "data": {
      "text/plain": [
       "<map at 0x223a59be640>"
      ]
     },
     "execution_count": 55,
     "metadata": {},
     "output_type": "execute_result"
    }
   ],
   "source": [
    "#map\n",
    "#It is used to apply a function to list in one step\n",
    "\n",
    "list3 = [1,2,3,4]\n",
    "b = map(times2,list3)\n",
    "#map(function,list)\n",
    "b"
   ]
  },
  {
   "cell_type": "code",
   "execution_count": 56,
   "id": "26acd3b0",
   "metadata": {},
   "outputs": [
    {
     "data": {
      "text/plain": [
       "[1, 4, 9, 16]"
      ]
     },
     "execution_count": 56,
     "metadata": {},
     "output_type": "execute_result"
    }
   ],
   "source": [
    "list(b)"
   ]
  },
  {
   "cell_type": "code",
   "execution_count": 60,
   "id": "469bce85",
   "metadata": {},
   "outputs": [
    {
     "data": {
      "text/plain": [
       "[1, 4, 9, 16]"
      ]
     },
     "execution_count": 60,
     "metadata": {},
     "output_type": "execute_result"
    }
   ],
   "source": [
    "#lambda expression\n",
    "#when theres no need to define an entire function but you need to get the job done\n",
    "\n",
    "list(map(lambda num: num**2,list3))\n",
    "\n",
    "#def function(num)\n",
    "#      return num**2\n",
    "#\n",
    "#      is equal to\n",
    "#\n",
    "#  lambda num: num**2"
   ]
  },
  {
   "cell_type": "code",
   "execution_count": null,
   "id": "caa3efdc",
   "metadata": {},
   "outputs": [],
   "source": [
    "#filter\n",
    "#shows things based on conditions passed\n",
    "filter\n"
   ]
  },
  {
   "cell_type": "code",
   "execution_count": 63,
   "id": "19a329ca",
   "metadata": {},
   "outputs": [
    {
     "data": {
      "text/plain": [
       "[2, 4]"
      ]
     },
     "execution_count": 63,
     "metadata": {},
     "output_type": "execute_result"
    }
   ],
   "source": [
    "list(filter(lambda num: num%2 == 0,list3))\n",
    "#only returned even numbers because of conditon"
   ]
  },
  {
   "cell_type": "code",
   "execution_count": 64,
   "id": "49ffecb4",
   "metadata": {},
   "outputs": [
    {
     "data": {
      "text/plain": [
       "['My', 'name', 'is', '#', 'hrishi', 'pawar']"
      ]
     },
     "execution_count": 64,
     "metadata": {},
     "output_type": "execute_result"
    }
   ],
   "source": [
    "#String Methods\n",
    "string1 = 'My name is # hrishi pawar'\n",
    "string1.split()\n",
    "#string1. press tab to see all methods"
   ]
  },
  {
   "cell_type": "code",
   "execution_count": 66,
   "id": "7e4c3e08",
   "metadata": {},
   "outputs": [
    {
     "data": {
      "text/plain": [
       "['My name is ', ' hrishi pawar']"
      ]
     },
     "execution_count": 66,
     "metadata": {},
     "output_type": "execute_result"
    }
   ],
   "source": [
    "string1.split('#')\n",
    "#splits at value passed"
   ]
  },
  {
   "cell_type": "code",
   "execution_count": 68,
   "id": "1f7b753d",
   "metadata": {},
   "outputs": [
    {
     "data": {
      "text/plain": [
       "{'a': 1, 'b': 2, 'c': 3}"
      ]
     },
     "execution_count": 68,
     "metadata": {},
     "output_type": "execute_result"
    }
   ],
   "source": [
    "#String methods for dictionary\n",
    "dd = {'a': 1, 'b':2, 'c':3}\n",
    "dd"
   ]
  },
  {
   "cell_type": "code",
   "execution_count": 71,
   "id": "2547d52f",
   "metadata": {},
   "outputs": [
    {
     "data": {
      "text/plain": [
       "dict_items([('a', 1), ('b', 2), ('c', 3)])"
      ]
     },
     "execution_count": 71,
     "metadata": {},
     "output_type": "execute_result"
    }
   ],
   "source": [
    "dd.items()"
   ]
  },
  {
   "cell_type": "code",
   "execution_count": 72,
   "id": "d8d14fb2",
   "metadata": {},
   "outputs": [
    {
     "data": {
      "text/plain": [
       "dict_keys(['a', 'b', 'c'])"
      ]
     },
     "execution_count": 72,
     "metadata": {},
     "output_type": "execute_result"
    }
   ],
   "source": [
    "dd.keys()"
   ]
  },
  {
   "cell_type": "code",
   "execution_count": 73,
   "id": "6ccdbb93",
   "metadata": {},
   "outputs": [
    {
     "data": {
      "text/plain": [
       "dict_values([1, 2, 3])"
      ]
     },
     "execution_count": 73,
     "metadata": {},
     "output_type": "execute_result"
    }
   ],
   "source": [
    "dd.values()\n",
    "#wont give in order"
   ]
  },
  {
   "cell_type": "code",
   "execution_count": 75,
   "id": "a103ef2e",
   "metadata": {},
   "outputs": [
    {
     "data": {
      "text/plain": [
       "4"
      ]
     },
     "execution_count": 75,
     "metadata": {},
     "output_type": "execute_result"
    }
   ],
   "source": [
    "#String methods for list\n",
    "list = [1,2,3,4]\n",
    "list.pop()\n",
    "#will remove last item and the change will be permanent"
   ]
  },
  {
   "cell_type": "code",
   "execution_count": 76,
   "id": "26efff9d",
   "metadata": {},
   "outputs": [],
   "source": [
    "# in operator\n",
    "#to check something this is used\n",
    "\n",
    "jk = [1,2,3,4,'a','b','c']\n"
   ]
  },
  {
   "cell_type": "code",
   "execution_count": 77,
   "id": "d8773f72",
   "metadata": {},
   "outputs": [
    {
     "data": {
      "text/plain": [
       "True"
      ]
     },
     "execution_count": 77,
     "metadata": {},
     "output_type": "execute_result"
    }
   ],
   "source": [
    "\"c\" in jk"
   ]
  },
  {
   "cell_type": "code",
   "execution_count": 78,
   "id": "ca965759",
   "metadata": {},
   "outputs": [
    {
     "data": {
      "text/plain": [
       "False"
      ]
     },
     "execution_count": 78,
     "metadata": {},
     "output_type": "execute_result"
    }
   ],
   "source": [
    "'f' in jk"
   ]
  },
  {
   "cell_type": "code",
   "execution_count": 79,
   "id": "50267403",
   "metadata": {},
   "outputs": [
    {
     "data": {
      "text/plain": [
       "False"
      ]
     },
     "execution_count": 79,
     "metadata": {},
     "output_type": "execute_result"
    }
   ],
   "source": [
    "'A' in jk"
   ]
  },
  {
   "cell_type": "code",
   "execution_count": 86,
   "id": "c5ce0b94",
   "metadata": {},
   "outputs": [
    {
     "name": "stdout",
     "output_type": "stream",
     "text": [
      "1\n",
      "2\n",
      "3\n"
     ]
    }
   ],
   "source": [
    "#Tuple unpacking\n",
    "\n",
    "list4 = [(1,4),(2,5),(3,6)]\n",
    "\n",
    "for (a,b) in list4:\n",
    "    print(a)\n",
    "    "
   ]
  },
  {
   "cell_type": "code",
   "execution_count": 87,
   "id": "55d71cf1",
   "metadata": {},
   "outputs": [
    {
     "name": "stdout",
     "output_type": "stream",
     "text": [
      "4\n",
      "5\n",
      "6\n"
     ]
    }
   ],
   "source": [
    "for (a,b) in list4:\n",
    "    print(b)"
   ]
  },
  {
   "cell_type": "code",
   "execution_count": null,
   "id": "747a74f6",
   "metadata": {},
   "outputs": [],
   "source": []
  }
 ],
 "metadata": {
  "kernelspec": {
   "display_name": "Python 3 (ipykernel)",
   "language": "python",
   "name": "python3"
  },
  "language_info": {
   "codemirror_mode": {
    "name": "ipython",
    "version": 3
   },
   "file_extension": ".py",
   "mimetype": "text/x-python",
   "name": "python",
   "nbconvert_exporter": "python",
   "pygments_lexer": "ipython3",
   "version": "3.9.12"
  }
 },
 "nbformat": 4,
 "nbformat_minor": 5
}
