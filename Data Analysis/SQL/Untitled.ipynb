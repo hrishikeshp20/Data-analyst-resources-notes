{
 "cells": [
  {
   "cell_type": "code",
   "execution_count": null,
   "id": "d3d7e9cb",
   "metadata": {},
   "outputs": [],
   "source": [
    "GROUP BY vs ORDER BY\n",
    "0 as tablename"
   ]
  },
  {
   "cell_type": "markdown",
   "id": "b7328811",
   "metadata": {},
   "source": [
    "CRUD\n",
    "C- Create\n",
    "R- Retrieve\n",
    "U- Update\n",
    "D- Delete"
   ]
  },
  {
   "cell_type": "markdown",
   "id": "c78a994a",
   "metadata": {},
   "source": [
    "Types of Database-\n",
    "1. Relational\n",
    "2. NoSQL\n",
    "3. Hierarchical \n",
    "4. Network"
   ]
  },
  {
   "cell_type": "code",
   "execution_count": null,
   "id": "d713b6f1",
   "metadata": {},
   "outputs": [],
   "source": [
    "What is database?\n",
    "A collection of related information.\n",
    "\n",
    "cloumn = attribute\n"
   ]
  },
  {
   "cell_type": "code",
   "execution_count": null,
   "id": "7b96e4ab",
   "metadata": {},
   "outputs": [],
   "source": [
    "cmd commands-\n",
    "use databasename\n",
    "DELIMITER -- ;"
   ]
  },
  {
   "cell_type": "code",
   "execution_count": null,
   "id": "112e38d3",
   "metadata": {},
   "outputs": [],
   "source": [
    "• cardinality- no. of rows\n",
    "• degree- no. of columns\n",
    "\n",
    "• data integrity- Data integrity refers to maintaining and assuring the accuracy and consistency of data \n",
    "                 over its entire life-cycle.\n",
    "    \n",
    "• constraint- Database Systems ensure data integrity through constraintswhich are used to restrict data \n",
    "             that can be entered ormodified in the database. Database Systems offer threetypes of \n",
    "             integrity constraints.\n",
    "\n",
    "• Three types of integrity-\n",
    " a) Entity integrity- one or more column which can uniquely identify rows. (Primary key)\n",
    " b) Domain integrity- same data type throughout the column. (Data types)\n",
    " c) Referential integrity- value of one column in a table should exist in other table as column. (Foreign key)"
   ]
  },
  {
   "cell_type": "code",
   "execution_count": null,
   "id": "5db92031",
   "metadata": {},
   "outputs": [],
   "source": [
    "• Database keys- A DBMS key is an attribute or set of attributes which helps us uniquely identify a row in a relation/table.\n",
    "                 Eg. Primary, Foreign key\n",
    "\n",
    "• Why do we need Keys-\n",
    " a)To uniquely identify a row\n",
    " b)To enforce Data Integrity and constraints\n",
    " c)To establish relationship between tables\n",
    "    \n",
    "• Types of Keys-\n",
    " a)Super Key      b)Candidate Key\n",
    " c)Primary Key    d)Alternate Key\n",
    " e)Foreign Key    f)Composite Key\n",
    " g)Compound Key   h)Surrogate Key"
   ]
  },
  {
   "cell_type": "code",
   "execution_count": null,
   "id": "b4264512",
   "metadata": {},
   "outputs": [],
   "source": [
    "  a)Super Key-     An attribute or a set of attributes that can be use to identify row of data in a table is a super key.\n",
    "                   In short its combination of multiple keys.\n",
    "    \n",
    "  b)Candidate key- It is nothing but minimal subset of super key. If any proper subset of a super key is a super key then\n",
    "                   that key cannot be a candidate key.\n",
    "                   In short base keys are candidate keys who later combined together form super key. two or more combined keys \n",
    "                   cant be candidate keys.\n",
    "  c)Primary Key-   The candidate key chosen to uniquely identify each row of data in a table is called primary key.\n",
    "                   No two rows can have the same primary key value, primary key valuecannot be NULL and every row must have\n",
    "                   a primary key.\n",
    "        \n",
    "  d)Alternate Key- Candidate keys which arent chosen as Primary key are termed as Alternate keys.\n",
    "\n",
    "  e)Foreign Key-   It is an attribute in a table which is used to define its relationship with another table. Using foreign\n",
    "                   key helps in maintaining data integrity for tables in relationship.\n",
    "        \n",
    "  f)Composite Key- Any primary key with more than one attribute is called Composite Key. In the above example\n",
    "                   (SID, REG_ID), (REG_ID, EMAIL), (EMAIL, SID), (SID, REG_ID, EMAIL) etc all are composite keys.\n",
    "\n",
    "  g)Compound Key-  If a composite key has at-least one attribute which is a foreign key then it is called as Compound Key.\n",
    "                   In the above example if we have a composite key (REC_ID, BRANCH_CODE) then it will be known as a\n",
    "                   Compound Key because BRANCH attribute is a Foreign Key.\n",
    "        \n",
    "  h)Surrogate Key- If a relation has no attribute which can be used to identify the data stored in it, then we create\n",
    "                   an attribute for this purpose. It adds no meaning to the data but serves the sole purpose of identifying\n",
    "                   rows uniquely in a table.\n",
    "        \n",
    "  g)Natural Key-   Primary key which has real meaning in real life and is related ot database. Eg. adhar card no. as primary key\n",
    "        \n",
    "Source- https://youtu.be/p3yJZH8_bsc"
   ]
  },
  {
   "cell_type": "code",
   "execution_count": null,
   "id": "cbf3452c",
   "metadata": {},
   "outputs": [],
   "source": [
    "Query- A query is a set of instructions given to the RDBMS (written is  SQL) that tell the RDBMS what information you want it to\n",
    "retrieve for you\n",
    "\n",
    "UNION Restrictions-\n",
    "same columns\n",
    "same data type\n"
   ]
  },
  {
   "cell_type": "code",
   "execution_count": null,
   "id": "d7810af1",
   "metadata": {},
   "outputs": [],
   "source": [
    "KEYOWRDS-\n",
    "CREATE TABLE\n",
    "DROP TABLE\n",
    "PRIMARY KEY\n",
    "DESCRIBE\n",
    "ALTER\n",
    "ADD\n",
    "NULL\n",
    "UNIQUE\n",
    "DEFAULT\n",
    "AUTO_INCREMENT\n",
    "LIMIT 2\n",
    "DISTINCT -- categories\n",
    "COUNT(column name) -- SELECT COUNT(column name) FROM table name;\n",
    "AVG(column name)\n",
    "SUM(column name)\n",
    "GROUPBY(column name)\n",
    "LIKE -- used with wild cards\n",
    "UNION\n",
    "JOIN, LEFT JOIN, RIGHT JOIN\n",
    "IN\n",
    "IF, ELSE, ELSEIF"
   ]
  },
  {
   "cell_type": "code",
   "execution_count": null,
   "id": "93da27c4",
   "metadata": {},
   "outputs": [],
   "source": [
    "== #comment\n",
    "<> #not equal to"
   ]
  },
  {
   "cell_type": "code",
   "execution_count": null,
   "id": "a626c007",
   "metadata": {},
   "outputs": [],
   "source": [
    "\n",
    "INT\n",
    "VARCHAR(1)\n",
    "DECIMAL(M,N)\n",
    "BLOB\n",
    "DATE\n",
    "TIMESTAMP\n",
    "\n"
   ]
  },
  {
   "cell_type": "code",
   "execution_count": null,
   "id": "8ccfbf81",
   "metadata": {},
   "outputs": [],
   "source": [
    "COMMANDS-\n",
    "to create table- CREATE TABLE tablename(atrb1, atrb2);\n",
    "to set primary key- PRIMARY KEY(table name)\n",
    "to show table blueprint- DESCRIBE tablename;\n",
    "to show table values- SELECT * FROM tablename;\n",
    "to delete table- DROP TABLE tablename;\n",
    "to add column in table- ALTER TABLE tablename ADD newcolumn name dataytype;\n",
    "to remove column in table- ALTER TABLE tablename DROP COLUMN column name;\n",
    "to insert data/row in table- INSERT INTO tablename VALUES(x,y,z); based on format of your table\n",
    "to insert data but with null- INSERT INTO tablename(column1,column2) VALUES(x,y)\n",
    "tO update- UPDATE tablename\n",
    "           SET x column name = 'new value'\n",
    "           WHERE x column name = 'old value'\n",
    "To delete from table- DELETE FROM tablename\n",
    "                    condition\n",
    "To delete evey value in table- DELETE FROM tablename\n",
    "to get values equal to list- WHERE columnname IN ('abc', 'def','ghi')\n",
    "while setting foreign key use at the end for primary key- ON DELETE SET NULL #if value is deleted then it replaces it with null\n",
    "while setting foreign key use at the end for compound keys- ON DELETE CASCADE #if value is deleted then whole row is deleted\n",
    "to edit a table- ALTER TABLE tablename\n",
    "to temp rename column- SELECT col1 AS xyz\n",
    "to get values matching to certain words- LIKE '%yourstring%'    # % Is any characters\n",
    "to get values matching to certain words- LIKE '__m%'    --word is Tommy\n",
    "DROP TRIGGER triggername"
   ]
  },
  {
   "cell_type": "code",
   "execution_count": null,
   "id": "7acdd457",
   "metadata": {},
   "outputs": [],
   "source": [
    "to get values in order- ORDER BY column name,column name2 DESC/ASC [column2 if there is chances of similar values in col1]"
   ]
  },
  {
   "cell_type": "code",
   "execution_count": null,
   "id": "5fca2aa7",
   "metadata": {},
   "outputs": [],
   "source": [
    "tablename.columnname"
   ]
  },
  {
   "cell_type": "code",
   "execution_count": null,
   "id": "f3dc03d5",
   "metadata": {},
   "outputs": [],
   "source": [
    "627. Swap Salary\n",
    "https://leetcode.com/problems/swap-salary/\n",
    "    \n",
    "UPDATE Salary\n",
    "SET sex = CASE sex\n",
    "          WHEN 'm' THEN 'f'\n",
    "          ELSE 'm'\n",
    "END;   \n",
    "\n"
   ]
  }
 ],
 "metadata": {
  "kernelspec": {
   "display_name": "Python 3 (ipykernel)",
   "language": "python",
   "name": "python3"
  },
  "language_info": {
   "codemirror_mode": {
    "name": "ipython",
    "version": 3
   },
   "file_extension": ".py",
   "mimetype": "text/x-python",
   "name": "python",
   "nbconvert_exporter": "python",
   "pygments_lexer": "ipython3",
   "version": "3.11.3"
  }
 },
 "nbformat": 4,
 "nbformat_minor": 5
}
