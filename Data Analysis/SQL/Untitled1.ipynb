{
 "cells": [
  {
   "cell_type": "code",
   "execution_count": null,
   "id": "3de97504",
   "metadata": {},
   "outputs": [],
   "source": [
    "https://www.pgadmin.org/docs/pgadmin4/6.17/index.html\n",
    "String function\n",
    "Mathematical function\n",
    "\n",
    "Data types\n",
    "postgresql.org/docs/current/datatype.html"
   ]
  },
  {
   "cell_type": "code",
   "execution_count": null,
   "id": "649caeb9",
   "metadata": {},
   "outputs": [],
   "source": [
    "BETWEEN\n",
    "IN\n",
    "EXIST\n",
    "ORDER BY"
   ]
  },
  {
   "cell_type": "code",
   "execution_count": 2,
   "id": "f1959da8",
   "metadata": {},
   "outputs": [],
   "source": [
    "SELECT DISTINCT -- selects unique rows from column\n",
    "SELECT COUNT(DISTINCT column name) -- counts number of rows\n",
    "ORDER BY column name1 ASC, colummn name2 DESC -- sorts by order\n",
    "LIMIT number_of_column -- always at end of query, gives mention amount of rows \n",
    "BETWEEN/ NOT BETWEEN -- gives value in range, BETWEEN is inclusive and NOT BETWEEN is exclusive, BETWEEN v1 AND v2\n",
    "                        during using this on dates with time be careful with time \n",
    "column_name IN/ NOT IN (value1, value2) -- in values its OR logic\n",
    "NOT LIKE/ LIKE case-sensitive, ILIKE case-insensitive -- '_J%', WHERE col_name LIKE '%a'\n",
    "UNION -- stacks vertically\n"
   ]
  },
  {
   "cell_type": "code",
   "execution_count": null,
   "id": "2a06701d",
   "metadata": {},
   "outputs": [],
   "source": [
    "Aggregate Functions-\n",
    "Works only in SELECT claude or HAVING clause\n",
    "\n",
    "AVG() -- returns floating value, can use ROUND() for precision value\n",
    "COUNT()\n",
    "MAX()\n",
    "MIN()\n",
    "SUM()"
   ]
  },
  {
   "cell_type": "code",
   "execution_count": null,
   "id": "6a70b274",
   "metadata": {},
   "outputs": [],
   "source": [
    "ROUND(value, numbers after decimal needed), ROUND(AVG(Col1), 2)\n",
    "GROUP BY column_name -- use after FROM or WHERE\n",
    "                        column name mentioned in SELECT should also be mentioned in GROUPBY\n",
    "                        Only exception is when the mentioned column in SELECT has aggregate function on it\n",
    "GROUP BY ON DATE -- In SELECT pass date_column as DATE(column_name) then use GROUPBY on whole function\n",
    "HAVING -- HAVING SUM(column_name) > 10, Use after GroupBy, used for aggregate functions\n",
    "AS -- Alias, gets executed at the end of query, only works in SELECT statement"
   ]
  },
  {
   "cell_type": "code",
   "execution_count": null,
   "id": "57a1785d",
   "metadata": {},
   "outputs": [],
   "source": [
    "JOINS\n",
    "\n",
    "INNER JOIN -- will result set of records that match in both tables \n",
    "\n",
    "syntax -- \n",
    " SELECT * FROM TableA\n",
    " INNER JOIN TableB\n",
    " ON TableA.col_match = TableB.col_match"
   ]
  },
  {
   "cell_type": "code",
   "execution_count": null,
   "id": "a8732a4a",
   "metadata": {},
   "outputs": [],
   "source": [
    "OUTER JOIN -- Selects everything from both tables, missing values are replaced with null\n",
    "\n",
    "syntax --\n",
    " SELECT * FROM TableA\n",
    " FULL OUTER JOIN TableB\n",
    " ON TableA.col_match = TableB.col_match\n",
    "    \n",
    "To get unique values aka opposite of Inner join values\n",
    "Use WHERE \n",
    "syntax -- \n",
    " SELECT * FROM Registeration FULL OUTER JOIN Logins\n",
    " ON Registerations.name = Login.name\n",
    " WHERE Registeration.reg_id IS null OR Login.login_id IS null"
   ]
  },
  {
   "cell_type": "code",
   "execution_count": null,
   "id": "1d8d01d7",
   "metadata": {},
   "outputs": [],
   "source": [
    "LEFT OUTER JOIN -- All values in left table, matching values in both table A and B,\n",
    "                   if no match in right then value is returned null\n",
    "RIGHT OUTER JOIN -- opposite of LEFT OUTER JOIN"
   ]
  },
  {
   "cell_type": "code",
   "execution_count": null,
   "id": "5195ae19",
   "metadata": {},
   "outputs": [],
   "source": [
    "SELF JOIN -- joins on same table\n",
    "syntax -- \n",
    " SELECT tableA.col,tableB.col\n",
    " FROM table AS tableA\n",
    " JOIN table AS tableB ON\n",
    " tableA.some_col = tableB.other_col"
   ]
  },
  {
   "cell_type": "code",
   "execution_count": null,
   "id": "67bc0aa8",
   "metadata": {},
   "outputs": [],
   "source": [
    "TIME -- contains only time\n",
    "DATE -- Contains only date\n",
    "TIMESTAMP -- Contains date and time\n",
    "TIMESTAMPTZ -- Contains date, time and timezone"
   ]
  },
  {
   "cell_type": "code",
   "execution_count": null,
   "id": "2230cd28",
   "metadata": {},
   "outputs": [],
   "source": [
    "SHOW TIMEZONE -- Shows time zone\n",
    "SELECT NOW() -- Current timestamp information\n",
    "SELECT TIMEOFDAY() -- Same as SELECT NOW() but in more readable format\n",
    "SELECT CURRENT_TIME -- gives current time\n",
    "SELECT CURRENT_DATE -- gives current date\n"
   ]
  },
  {
   "cell_type": "code",
   "execution_count": null,
   "id": "b48ade7c",
   "metadata": {},
   "outputs": [],
   "source": [
    "EXTRACT()\n",
    "Allows to extract or obtain a sub-component of a date value\n",
    "- YEAR -- SELECT EXTRACT(YEAR FROM date_col)\n",
    "- MONTH\n",
    "- DAY\n",
    "- WEEK\n",
    "- QUARTER\n",
    "\n",
    "AGE()\n",
    "Calculates and returns the current age given a timestamp\n",
    "-- SELECT AGE(date_col)\n",
    "OUTPUT- 13 years 1mon 5 days 01:34:13.003423\n",
    "\n",
    "TO_CHAR()\n",
    "- General function to convert data types to text\n",
    "- Useful for timestamp formatting\n",
    "-- SELECT TO_CHAR(date_col,'mm-dd-yyyy')\n",
    "Google TO_CHAR() for more 'mm-dd-yyyy' formatting"
   ]
  },
  {
   "cell_type": "code",
   "execution_count": null,
   "id": "f7ba5fac",
   "metadata": {},
   "outputs": [],
   "source": [
    "To get weekday -- EXTRACT(dow FROM payment_date) = 1 #0 is sunday\n",
    "|| -- concatenate"
   ]
  },
  {
   "cell_type": "code",
   "execution_count": null,
   "id": "217ed4ab",
   "metadata": {},
   "outputs": [],
   "source": [
    "COLUMN CONSTRAINTS -- \n",
    "NOT NULL\n",
    "UNIQUE\n",
    "PRIMARY KEY\n",
    "FOREIGN KEY\n",
    "CHECK -- Ensures all values in a column staisfy certain conditions\n",
    "EXCLUSION"
   ]
  },
  {
   "cell_type": "code",
   "execution_count": null,
   "id": "dcbb2f0a",
   "metadata": {},
   "outputs": [],
   "source": [
    "TABLE CONSTRAINTS -- \n",
    "CHECK\n",
    "REFERENCES\n",
    "UNIQUE(column_list)\n",
    "PRIMARY KEY(column_list)  "
   ]
  },
  {
   "cell_type": "code",
   "execution_count": null,
   "id": "a0501078",
   "metadata": {},
   "outputs": [],
   "source": []
  },
  {
   "cell_type": "code",
   "execution_count": null,
   "id": "60b7db41",
   "metadata": {},
   "outputs": [],
   "source": [
    "CREATE TABLE -- \n",
    "CREATE TABLE table_name(\n",
    "column_name TYPE column_constraint,\n",
    "column_name TYPE column_constraint,\n",
    "table_constraint table_constraint) INHERITS existing_table_name;"
   ]
  },
  {
   "cell_type": "code",
   "execution_count": null,
   "id": "082ca352",
   "metadata": {},
   "outputs": [],
   "source": [
    "REFERENCE -- user_id INTEGER REFERENCES account(user_id) INTEGER because serial is used in another table\n",
    "\n",
    "INSERT -- \n",
    " INSERT INTO table_name(col1, col2, col3, col4)\n",
    " VALUES\n",
    " ('value for col1', 'value for col2', 'value for col3', CURRENT_TIMESTAMP)"
   ]
  },
  {
   "cell_type": "code",
   "execution_count": null,
   "id": "0b3cc922",
   "metadata": {},
   "outputs": [],
   "source": [
    "UPDATE\n",
    "syntax-\n",
    "\n",
    "Gernal --\n",
    " UPDATE table_name\n",
    " SET col1 = value1,\n",
    "     col2 = value2,\n",
    " WHERE\n",
    "     condition;\n",
    "\n",
    "To override everything in that column -- \n",
    " UPDATE table_name\n",
    " SET col1 = val1;\n",
    "\n",
    "Set based on another column -- \n",
    " UPDATE table_name\n",
    " SET col1 = col2;\n",
    "\n",
    "UPDATE JOIN -- update values from another table\n",
    " UPDATE table_name\n",
    " SET original_col = TableB.new_col\n",
    " FROM tableB\n",
    " WHERE tableA.id = TableB.id\n",
    "\n",
    "Return affected rows -- \n",
    " UPDATE table_name\n",
    " SET col1 = col2\n",
    " RETURNING col, col\n",
    "Returning returns the updated columns"
   ]
  },
  {
   "cell_type": "code",
   "execution_count": null,
   "id": "e54522fc",
   "metadata": {},
   "outputs": [],
   "source": [
    "DELETE\n",
    "\n",
    "to remove rows from table\n",
    " DELETE FROM table_name\n",
    " WHERE col_value = 1\n",
    "\n",
    "delete rows based on their presence in other tables(DELETE JOIN)\n",
    " DELETE FROM tableA\n",
    " USING tableB\n",
    " WHERE tableA.id=TableB.id\n",
    "\n",
    "to delete all rows \n",
    " DELETE FROM table_name\n",
    "\n",
    " RETURNING col, col\n",
    "Returning returns the updated columns"
   ]
  },
  {
   "cell_type": "raw",
   "id": "f740c5c0",
   "metadata": {},
   "source": [
    "ALTER -- Helps changing properties of tables\n",
    "\n",
    "syntax--\n",
    " ALTER TABLE table_name\n",
    " RENAME TO new_table_name                      #renames table name\n",
    " RENAME COLUMN old_column  TO new_column_name  #renames column name\n",
    " \n",
    "To alter constraints\n",
    " ALTER TABLE table_name\n",
    " ALTER COLUMN column_name SET/DROP NOT NULL\n",
    " \n",
    "CHECK DOCUMENTATION FOR MORE INFO"
   ]
  },
  {
   "cell_type": "code",
   "execution_count": null,
   "id": "65ed2203",
   "metadata": {},
   "outputs": [],
   "source": [
    "DROP -- allows to completely remove column\n",
    "syntax--\n",
    " ALTER TABLE table_name\n",
    " DROP COLUMN column_name\n",
    "\n",
    "To drop multiple columns\n",
    " ALTER TABLE table_name\n",
    " DROP COLUMN column_name,\n",
    " DROP COLUMN column_name2\n",
    "\n",
    "To remove all dependencies\n",
    " ALTER TABLE table_name\n",
    " DROP COLUMN col_name CASCADE\n",
    "\n",
    "To avoid existence error-- Use IF EXISTS\n",
    " ALTER TABLE table_name\n",
    " DROP COLUMN IF EXISTS col_name"
   ]
  },
  {
   "cell_type": "code",
   "execution_count": null,
   "id": "1a01a498",
   "metadata": {},
   "outputs": [],
   "source": [
    "CHECK CONSTRAINT -- Allows you to add condition while creating tables, while inserting values into this table, if \n",
    "                    doesnt meet constraints then throws errors.\n",
    "syntax-- \n",
    " CREATE TABLE table_name(\n",
    " ex_id SERIAL PRIMARY KEY,\n",
    " age SMALLINT CHECK (age>21),\n",
    " parent_age SMALLINT CHECK (parent_age>age));"
   ]
  },
  {
   "cell_type": "code",
   "execution_count": null,
   "id": "6f8ef0aa",
   "metadata": {},
   "outputs": [],
   "source": []
  },
  {
   "cell_type": "code",
   "execution_count": null,
   "id": "1e57b2ef",
   "metadata": {},
   "outputs": [],
   "source": [
    "CASE -- Execute SQL code only when certain conditions are met, just like IF/ELSE statements\n",
    "general syntax-- \n",
    " CASE\n",
    "    WHEN condition1 THEN result1\n",
    "    WHEN condition2 THEN result2\n",
    "    ELSE some_other_result\n",
    " END\n",
    "\n",
    "Eg.\n",
    " SELECT name_col,\n",
    "    CASE WHEN name_col = 'sam' THEN 'Topper'\n",
    "         WHEN name_col = 'jack' THEN 'Failed'\n",
    "    ELSE 'Passed' \n",
    "    END AS new_alias_name\n",
    " FROM test_table;\n",
    "    \n",
    "case expression syntax --\n",
    " CASE expression\n",
    "    WHEN value1 THEN result1\n",
    "    WHEN value2 THEN result2\n",
    "    ELSE some_other_result\n",
    " END\n",
    "\n",
    "Eg.\n",
    " SELECT name_col, \n",
    "    CASE name_col \n",
    "        WHEN 'same' THEN 'topper'\n",
    "        WHEN 'jack' THEN 'Failed'\n",
    "        ELSE 'Passed'\n",
    "    END\n",
    " FROM test_table;"
   ]
  },
  {
   "cell_type": "code",
   "execution_count": null,
   "id": "d0fde988",
   "metadata": {},
   "outputs": [],
   "source": [
    "COALESCE function -- substitutes null value with another value\n",
    "syntax-- \n",
    " SELECT col_name,(col1 + COALSECE(col2, your value like 1))\n",
    " AS final FROM table"
   ]
  },
  {
   "cell_type": "code",
   "execution_count": null,
   "id": "8482b632",
   "metadata": {},
   "outputs": [],
   "source": [
    "CAST function -- converts one data type to another\n",
    "Works on entire column as well\n",
    "General syntax--\n",
    " SELECT CAST('5' AS INTEGER)\n",
    "    \n",
    "PostgreSQL syntax -- \n",
    " SELECT '5' :: INTEGER"
   ]
  },
  {
   "cell_type": "code",
   "execution_count": null,
   "id": "ad2c623b",
   "metadata": {},
   "outputs": [],
   "source": [
    "NULLIF Function -- Takes 2 inputs and returns NULL if both are equal, otherwise returns first arguement passed\n",
    "syntax--\n",
    " NULLIF(10,10)\n",
    " returns NULL\n",
    " \n",
    " NULLIF(10,12)\n",
    " returns 10"
   ]
  },
  {
   "cell_type": "code",
   "execution_count": null,
   "id": "d281dbd6",
   "metadata": {},
   "outputs": [],
   "source": [
    "VIEWS --  converts a complex query into a virtual table, instead of writing whole query to get a table, just call the view\n",
    "Eg. SELECT col1, col2 FROM table1\n",
    " With Views \n",
    "    SELECT * FROM views  -- views = SELECT col1, col2 FROM table1\n",
    "    \n",
    "syntax -- \n",
    " CREATE VIEW name23 AS\n",
    " SELECT col1, col2, col3 FROM table1\n",
    " INNER JOIN col2\n",
    " ON table1.col3 = table1.col1\n",
    "NEXT step\n",
    " SELECT * FROM name23\n",
    "    \n",
    "    \n",
    "To update/replace a current view--\n",
    "Use CREATE OR REPLACE VIEW instead of just CREATE VIEW\n",
    "\n",
    "To delete a view -- \n",
    " DROP VIEW view_name\n",
    "    \n",
    "To rename a view--\n",
    " ALTER VIEW old_view_name RENAME to new_view_name"
   ]
  },
  {
   "cell_type": "code",
   "execution_count": null,
   "id": "7d99f36d",
   "metadata": {},
   "outputs": [],
   "source": []
  },
  {
   "cell_type": "code",
   "execution_count": null,
   "id": "25b00179",
   "metadata": {},
   "outputs": [],
   "source": [
    "IMPORT & EXPORT"
   ]
  },
  {
   "cell_type": "code",
   "execution_count": null,
   "id": "0e7fba9f",
   "metadata": {},
   "outputs": [],
   "source": [
    "LEETCODE NOTES-\n",
    "<> -- not equal \n",
    "COALESCE() function #https://www.geeksforgeeks.org/use-of-coalesce-function-in-sql-server/\n"
   ]
  }
 ],
 "metadata": {
  "kernelspec": {
   "display_name": "Python 3 (ipykernel)",
   "language": "python",
   "name": "python3"
  },
  "language_info": {
   "codemirror_mode": {
    "name": "ipython",
    "version": 3
   },
   "file_extension": ".py",
   "mimetype": "text/x-python",
   "name": "python",
   "nbconvert_exporter": "python",
   "pygments_lexer": "ipython3",
   "version": "3.11.3"
  }
 },
 "nbformat": 4,
 "nbformat_minor": 5
}
