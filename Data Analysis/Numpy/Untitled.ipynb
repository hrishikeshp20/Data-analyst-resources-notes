{
 "cells": [
  {
   "cell_type": "markdown",
   "id": "26fbef6e",
   "metadata": {},
   "source": [
    "Vectors are strictly 1-d arrays and matrices are 2-d (but you should note a matrix can still have only one row or one column)"
   ]
  },
  {
   "cell_type": "code",
   "execution_count": 7,
   "id": "1ce605e9",
   "metadata": {},
   "outputs": [],
   "source": [
    "import numpy as np"
   ]
  },
  {
   "cell_type": "code",
   "execution_count": 2,
   "id": "e74d8d23",
   "metadata": {},
   "outputs": [
    {
     "ename": "SyntaxError",
     "evalue": "invalid syntax (645366801.py, line 1)",
     "output_type": "error",
     "traceback": [
      "\u001b[1;36m  Input \u001b[1;32mIn [2]\u001b[1;36m\u001b[0m\n\u001b[1;33m    np.array(any list)           #converts list to array\u001b[0m\n\u001b[1;37m                 ^\u001b[0m\n\u001b[1;31mSyntaxError\u001b[0m\u001b[1;31m:\u001b[0m invalid syntax\n"
     ]
    }
   ],
   "source": [
    "np.array(any list)           #converts list to array\n",
    "np.arange(0,5,2)             #makes array based on range, 3rd argu is step size\n",
    "np.zeros((4,4))              \n",
    "np.ones((3,3))\n",
    "np.linspace(0,10,3)\n",
    "np.eye(4)                    #Identity matrix, diagonal 1's\n",
    "np.random.random()           #gives random value\n",
    "np.random.rand(5,4)          #matrix of random number uniform distribution\n",
    "np.random.randn(4,4)         #same but standard distribution\n",
    "np.random.randint(2,100,10)  #random integer between range\n",
    "np.random.seed(1)            #gives same random value\n",
    "np.random.uniform(x,y,z)     #gives array of random values,x and y is range, z is size\n",
    "np.hstack((arrvar1,arrvar2)) #stacks two arrays, h = horizontal, v = vertical\n",
    "np.hsplit(arrvar,2)          #splits array into equal parts, number is parts, h and v\n",
    "np.where(condition,if true   #to store new array in different variable\n",
    "        , if false)\n",
    "np.sort(arrvar)\n",
    "np.percentile(arrvar,25)     #gives value based on percentile value passed\n",
    "1D arrvar.reshape(5,5)       #converts 1D array to 2D matrix\n",
    "arrvar.ravel()               #turns n-D array to 1D array\n",
    "arrvar.max(axis)             #axis gives max/min of each row/column\n",
    "arrvar.min()\n",
    "arrvar.argmax/min()          #same as min,max but gives index position\n",
    "arrvar[[r,r,r],[c,c,c]]      #gives rows/columns based on row/column number / fancy indexing\n",
    "\n",
    "np.sum(arrvar) or            #To get sum of all elements inside\n",
    "arrvar.sum()\n",
    "arrvar.copy(arrvar2)         #copies array\n",
    "arrvar.astype('data type')   #Converts the array into passed data type\n",
    "arrvar.dot(arrvar2)          #dot matrix multiplication\n",
    "arrvar.transpose()           #converts (2,3) shape array to (3,2), switches rows and columns\n",
    "\n",
    "\n",
    "#ATTRIBUTES\n",
    "arrvar.shape                 #no brackets and gives no. of columns and rows\n",
    "arrvar.dtype                 #no brackets, gives datatype of array\n",
    "arrvar.ndim                  #gives dimensions of array\n",
    "arrvar.size                  #gives size(no. of items in array)\n",
    "arrvar.itemsize              #C O N F U S I O N https://youtu.be/ikx70DFC2T8?t=329\n",
    "arrvar.itemsize * arrvar.size #memory occupied by array\n",
    "np.nditer(arrvar)            #iteration to get each item in array\n",
    "\n",
    "\n",
    "\n",
    "\n",
    "#arrvar = array variable\n",
    "\n",
    "\n",
    "\n",
    "\n",
    "#https://youtu.be/7VVZIkCcTHU?t=582  arrvar.sum() vs np.sum(arrvar)\n",
    "#https://youtu.be/f7mcmDm7QFs - to calculate time and memory size\n",
    "#how to know that when to pass values as list or tuples?\n",
    "& vs and , bitwise\n",
    "#Broadcasting array https://youtu.be/LaKAA7Z84so"
   ]
  },
  {
   "cell_type": "code",
   "execution_count": null,
   "id": "b45cbb49",
   "metadata": {},
   "outputs": [],
   "source": [
    "np.zeros((5,5))\n",
    "np.ones((2,2))\n",
    "#pay attention to brackets, its a tuple.         "
   ]
  },
  {
   "cell_type": "code",
   "execution_count": null,
   "id": "e3d4c5de",
   "metadata": {},
   "outputs": [],
   "source": [
    "np.linspace(0,10,3)\n",
    "#evenly spaced points based on third arguement\n",
    "#one-dimensional array"
   ]
  },
  {
   "cell_type": "markdown",
   "id": "b5de53ec",
   "metadata": {},
   "source": [
    "Array copies arent created unless you mention\n",
    "any array = arr.copy #This will create a new copy of array"
   ]
  },
  {
   "cell_type": "markdown",
   "id": "a93565a3",
   "metadata": {},
   "source": [
    "**Array slicing and grabbing"
   ]
  },
  {
   "cell_type": "code",
   "execution_count": null,
   "id": "c62e5023",
   "metadata": {},
   "outputs": [],
   "source": [
    "arange = np.arange(20)\n",
    "x = arange.reshape(4,5)\n",
    "x"
   ]
  },
  {
   "cell_type": "code",
   "execution_count": null,
   "id": "4ddc722e",
   "metadata": {},
   "outputs": [],
   "source": [
    "x[1,2]\n",
    "#for single value"
   ]
  },
  {
   "cell_type": "code",
   "execution_count": null,
   "id": "f9e6275e",
   "metadata": {},
   "outputs": [],
   "source": [
    "x[1:3,2:4]\n",
    "#for a range of values"
   ]
  },
  {
   "cell_type": "markdown",
   "id": "eaa242ca",
   "metadata": {},
   "source": [
    "**Conditional selection"
   ]
  },
  {
   "cell_type": "code",
   "execution_count": null,
   "id": "9c732533",
   "metadata": {},
   "outputs": [],
   "source": [
    "#Gives boolean values based on conditions\n",
    "x>10"
   ]
  },
  {
   "cell_type": "code",
   "execution_count": null,
   "id": "33ebdb13",
   "metadata": {},
   "outputs": [],
   "source": [
    "x[x>10]"
   ]
  },
  {
   "cell_type": "code",
   "execution_count": null,
   "id": "2c28a761",
   "metadata": {},
   "outputs": [],
   "source": [
    "arr2d = np.zeros((10,10))"
   ]
  },
  {
   "cell_type": "code",
   "execution_count": null,
   "id": "83cab487",
   "metadata": {},
   "outputs": [],
   "source": [
    "#DOUBT\n",
    "arr2d"
   ]
  },
  {
   "cell_type": "code",
   "execution_count": null,
   "id": "567f570c",
   "metadata": {},
   "outputs": [],
   "source": [
    "arr_length = arr2d.shape[1]"
   ]
  },
  {
   "cell_type": "code",
   "execution_count": null,
   "id": "c0cd6edd",
   "metadata": {},
   "outputs": [],
   "source": [
    "arr_length"
   ]
  },
  {
   "cell_type": "code",
   "execution_count": null,
   "id": "4c910d20",
   "metadata": {},
   "outputs": [],
   "source": [
    "for i in range(arr_length):\n",
    "    arr2d[i] = i\n",
    "    \n",
    "arr2d"
   ]
  },
  {
   "cell_type": "markdown",
   "id": "46b629c5",
   "metadata": {},
   "source": [
    "."
   ]
  },
  {
   "cell_type": "markdown",
   "id": "c82f4b20",
   "metadata": {},
   "source": [
    "**Arithmetic operation on arrays"
   ]
  },
  {
   "cell_type": "code",
   "execution_count": null,
   "id": "9897f471",
   "metadata": {},
   "outputs": [],
   "source": [
    "g = np.arange(10)\n",
    "g"
   ]
  },
  {
   "cell_type": "code",
   "execution_count": null,
   "id": "4bd368e1",
   "metadata": {},
   "outputs": [],
   "source": [
    "g+g\n",
    "#g-g, g*g, g/g"
   ]
  },
  {
   "cell_type": "code",
   "execution_count": null,
   "id": "0a2e6f6b",
   "metadata": {},
   "outputs": [],
   "source": [
    "g + 10\n",
    "#g-2, g*4"
   ]
  },
  {
   "cell_type": "code",
   "execution_count": 4,
   "id": "6ce62b61",
   "metadata": {},
   "outputs": [
    {
     "data": {
      "text/plain": [
       "array([[0, 1, 2, 3, 4],\n",
       "       [5, 6, 7, 8, 9]])"
      ]
     },
     "execution_count": 4,
     "metadata": {},
     "output_type": "execute_result"
    }
   ],
   "source": [
    "ab = np.arange(10)\n",
    "ab.reshape(2,5)"
   ]
  },
  {
   "cell_type": "markdown",
   "id": "bd1510b3",
   "metadata": {},
   "source": [
    "https://docs.scipy.org/doc/numpy-1.9.3/reference/ufuncs.html"
   ]
  },
  {
   "cell_type": "code",
   "execution_count": 6,
   "id": "8959b5d1",
   "metadata": {},
   "outputs": [
    {
     "name": "stdout",
     "output_type": "stream",
     "text": [
      "0\n",
      "1\n",
      "2\n",
      "3\n",
      "4\n",
      "5\n",
      "6\n",
      "7\n",
      "8\n",
      "9\n"
     ]
    }
   ],
   "source": [
    "for i in np.nditer(ab):\n",
    "    print(i)"
   ]
  },
  {
   "cell_type": "code",
   "execution_count": 11,
   "id": "5842415a",
   "metadata": {},
   "outputs": [
    {
     "data": {
      "text/plain": [
       "array([[ 0,  1,  2,  3],\n",
       "       [ 4,  5,  6,  7],\n",
       "       [ 8,  9, 10, 11],\n",
       "       [12, 13, 14, 15],\n",
       "       [16, 17, 18, 19],\n",
       "       [20, 21, 22, 23]])"
      ]
     },
     "execution_count": 11,
     "metadata": {},
     "output_type": "execute_result"
    }
   ],
   "source": [
    "a = np.arange(24).reshape(6,4)\n",
    "a"
   ]
  },
  {
   "cell_type": "code",
   "execution_count": 12,
   "id": "e9d9c4e1",
   "metadata": {},
   "outputs": [
    {
     "data": {
      "text/plain": [
       "array([[ 0,  1,  2,  3],\n",
       "       [ 8,  9, 10, 11],\n",
       "       [16, 17, 18, 19]])"
      ]
     },
     "execution_count": 12,
     "metadata": {},
     "output_type": "execute_result"
    }
   ],
   "source": [
    "a[[0,2,4]]"
   ]
  },
  {
   "cell_type": "code",
   "execution_count": 13,
   "id": "d7860772",
   "metadata": {},
   "outputs": [],
   "source": [
    "  #SELF - FUNCTION TO GET SUM IN ARRAY\n",
    "def sum_array(arr):\n",
    "    sum = 0\n",
    "    for i in np.nditer(arr):\n",
    "        sum = sum+i\n",
    "    return sum"
   ]
  },
  {
   "cell_type": "code",
   "execution_count": 14,
   "id": "54430bcc",
   "metadata": {},
   "outputs": [
    {
     "data": {
      "text/plain": [
       "45"
      ]
     },
     "execution_count": 14,
     "metadata": {},
     "output_type": "execute_result"
    }
   ],
   "source": [
    "sum_array(np.arange(0,10).reshape(5,2))"
   ]
  },
  {
   "cell_type": "code",
   "execution_count": 15,
   "id": "d29821a8",
   "metadata": {},
   "outputs": [],
   "source": []
  },
  {
   "cell_type": "code",
   "execution_count": 16,
   "id": "035d06cf",
   "metadata": {},
   "outputs": [
    {
     "data": {
      "text/plain": [
       "array([[0, 1],\n",
       "       [2, 3],\n",
       "       [4, 5],\n",
       "       [6, 7],\n",
       "       [8, 9]])"
      ]
     },
     "execution_count": 16,
     "metadata": {},
     "output_type": "execute_result"
    }
   ],
   "source": []
  },
  {
   "cell_type": "code",
   "execution_count": 17,
   "id": "faf4e27d",
   "metadata": {},
   "outputs": [
    {
     "data": {
      "text/plain": [
       "45"
      ]
     },
     "execution_count": 17,
     "metadata": {},
     "output_type": "execute_result"
    }
   ],
   "source": [
    "a.sum()"
   ]
  },
  {
   "cell_type": "code",
   "execution_count": null,
   "id": "d7f0ed9e",
   "metadata": {},
   "outputs": [],
   "source": []
  }
 ],
 "metadata": {
  "kernelspec": {
   "display_name": "Python 3 (ipykernel)",
   "language": "python",
   "name": "python3"
  },
  "language_info": {
   "codemirror_mode": {
    "name": "ipython",
    "version": 3
   },
   "file_extension": ".py",
   "mimetype": "text/x-python",
   "name": "python",
   "nbconvert_exporter": "python",
   "pygments_lexer": "ipython3",
   "version": "3.9.12"
  }
 },
 "nbformat": 4,
 "nbformat_minor": 5
}
