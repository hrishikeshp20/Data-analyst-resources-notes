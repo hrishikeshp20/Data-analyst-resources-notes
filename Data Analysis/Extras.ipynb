{
 "cells": [
  {
   "cell_type": "code",
   "execution_count": null,
   "id": "9654e3cd",
   "metadata": {},
   "outputs": [],
   "source": [
    "datavar.columns    #gives list of all columns\n",
    "datavar.index      #gives list of all index\n",
    "datavar.info()     #gives info of columns and index\n"
   ]
  }
 ],
 "metadata": {
  "kernelspec": {
   "display_name": "Python 3 (ipykernel)",
   "language": "python",
   "name": "python3"
  },
  "language_info": {
   "codemirror_mode": {
    "name": "ipython",
    "version": 3
   },
   "file_extension": ".py",
   "mimetype": "text/x-python",
   "name": "python",
   "nbconvert_exporter": "python",
   "pygments_lexer": "ipython3",
   "version": "3.9.12"
  }
 },
 "nbformat": 4,
 "nbformat_minor": 5
}
