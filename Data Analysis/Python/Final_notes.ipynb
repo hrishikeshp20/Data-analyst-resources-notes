{
 "cells": [
  {
   "cell_type": "markdown",
   "id": "1f147d91",
   "metadata": {},
   "source": [
    "**SECTION 1 Python Revision**"
   ]
  },
  {
   "cell_type": "code",
   "execution_count": 20,
   "id": "1c6b47f6",
   "metadata": {},
   "outputs": [],
   "source": [
    "#Difference between .append and l\n",
    "mylist = [1,2,3,4]"
   ]
  },
  {
   "cell_type": "code",
   "execution_count": 21,
   "id": "d1620bd5",
   "metadata": {},
   "outputs": [],
   "source": [
    "mylist.append(\"d\")\n",
    "#adds the given value in list.\n",
    "#Note- the more you run this the more time it will add the value to list\n",
    "# run once it will add one 'd', run twice and it will add another'd' to the same list"
   ]
  },
  {
   "cell_type": "code",
   "execution_count": 22,
   "id": "e91ca329",
   "metadata": {},
   "outputs": [
    {
     "data": {
      "text/plain": [
       "[1, 2, 3, 4, 'd']"
      ]
     },
     "execution_count": 22,
     "metadata": {},
     "output_type": "execute_result"
    }
   ],
   "source": [
    "mylist"
   ]
  },
  {
   "cell_type": "code",
   "execution_count": 2,
   "id": "1cfce74e",
   "metadata": {},
   "outputs": [
    {
     "data": {
      "text/plain": [
       "[1, 2, 3, 4]"
      ]
     },
     "execution_count": 2,
     "metadata": {},
     "output_type": "execute_result"
    }
   ],
   "source": [
    "#List\n",
    "a = [1,2,3,4]\n",
    "a"
   ]
  },
  {
   "cell_type": "code",
   "execution_count": 8,
   "id": "d871b732",
   "metadata": {},
   "outputs": [
    {
     "data": {
      "text/plain": [
       "{'key1': 'a', 'key2': 'b'}"
      ]
     },
     "execution_count": 8,
     "metadata": {},
     "output_type": "execute_result"
    }
   ],
   "source": [
    "#Dictionary\n",
    "#key-value pair\n",
    "b = {'key1':'a','key2':'b'}\n",
    "b\n"
   ]
  },
  {
   "cell_type": "code",
   "execution_count": 10,
   "id": "a0fdbeeb",
   "metadata": {},
   "outputs": [
    {
     "data": {
      "text/plain": [
       "'b'"
      ]
     },
     "execution_count": 10,
     "metadata": {},
     "output_type": "execute_result"
    }
   ],
   "source": [
    "b['key2']"
   ]
  },
  {
   "cell_type": "code",
   "execution_count": 11,
   "id": "2341a399",
   "metadata": {},
   "outputs": [
    {
     "data": {
      "text/plain": [
       "(1, 2, 3)"
      ]
     },
     "execution_count": 11,
     "metadata": {},
     "output_type": "execute_result"
    }
   ],
   "source": [
    "#Tuple\n",
    "#tuple is immutable\n",
    "c = (1,2,3)\n",
    "c"
   ]
  },
  {
   "cell_type": "code",
   "execution_count": 13,
   "id": "b4d1844c",
   "metadata": {},
   "outputs": [
    {
     "data": {
      "text/plain": [
       "{1, 2, 3, 4}"
      ]
     },
     "execution_count": 13,
     "metadata": {},
     "output_type": "execute_result"
    }
   ],
   "source": [
    "#Sets\n",
    "#Doesnt include repeated values\n",
    "d = {1,2,1,2,3,4}\n",
    "d"
   ]
  },
  {
   "cell_type": "code",
   "execution_count": 18,
   "id": "796f2ea2",
   "metadata": {},
   "outputs": [
    {
     "name": "stdout",
     "output_type": "stream",
     "text": [
      "1\n",
      "2\n",
      "3\n",
      "4\n",
      "5\n"
     ]
    }
   ],
   "source": [
    "#for loops\n",
    "seq = [1,2,3,4,5]\n",
    "for x in seq:\n",
    "    print(x)"
   ]
  },
  {
   "cell_type": "code",
   "execution_count": 24,
   "id": "5d049cc5",
   "metadata": {},
   "outputs": [
    {
     "name": "stdout",
     "output_type": "stream",
     "text": [
      "hi\n",
      "hi\n",
      "hi\n",
      "hi\n"
     ]
    }
   ],
   "source": [
    "#while loop\n",
    "i = 1\n",
    "while i<5:\n",
    "    print('hi')\n",
    "    i=1+i"
   ]
  },
  {
   "cell_type": "code",
   "execution_count": 25,
   "id": "2758b54c",
   "metadata": {},
   "outputs": [
    {
     "data": {
      "text/plain": [
       "range(0, 5)"
      ]
     },
     "execution_count": 25,
     "metadata": {},
     "output_type": "execute_result"
    }
   ],
   "source": [
    "#range\n",
    "range(5)"
   ]
  },
  {
   "cell_type": "code",
   "execution_count": 26,
   "id": "c8330142",
   "metadata": {},
   "outputs": [
    {
     "name": "stdout",
     "output_type": "stream",
     "text": [
      "0\n",
      "1\n",
      "2\n",
      "3\n",
      "4\n"
     ]
    }
   ],
   "source": [
    "for i in range(5):\n",
    "    print(i)"
   ]
  },
  {
   "cell_type": "code",
   "execution_count": 27,
   "id": "9de3dc42",
   "metadata": {},
   "outputs": [
    {
     "data": {
      "text/plain": [
       "[0, 1, 2, 3, 4]"
      ]
     },
     "execution_count": 27,
     "metadata": {},
     "output_type": "execute_result"
    }
   ],
   "source": [
    "list(range(5))"
   ]
  },
  {
   "cell_type": "code",
   "execution_count": 29,
   "id": "116995b6",
   "metadata": {},
   "outputs": [
    {
     "name": "stdout",
     "output_type": "stream",
     "text": [
      "[1, 4, 9, 16]\n"
     ]
    }
   ],
   "source": [
    "#list comprehension\n",
    "out = []\n",
    "x = [1,2,3,4]\n",
    "for new in x:\n",
    "    out.append(new**2)\n",
    "print(out)"
   ]
  },
  {
   "cell_type": "code",
   "execution_count": 32,
   "id": "ca1c90f5",
   "metadata": {},
   "outputs": [
    {
     "name": "stdout",
     "output_type": "stream",
     "text": [
      "[1, 4, 9, 16]\n"
     ]
    }
   ],
   "source": [
    "#to write above code in single line is called list comprehension\n",
    "out2=[new1**2 for new1 in x]\n",
    "#out2=[(final result you want) for variable in x]\n",
    "print(out2)"
   ]
  },
  {
   "cell_type": "code",
   "execution_count": 36,
   "id": "d5347ce2",
   "metadata": {},
   "outputs": [],
   "source": [
    "#functions\n",
    "#default name is the value is no arguement is passed to function or else it will throw error if users passes nothing to it\n",
    "def myfunc(name='default name'):\n",
    "    print(\"My name is {}\".format(name))"
   ]
  },
  {
   "cell_type": "code",
   "execution_count": 40,
   "id": "1926eb73",
   "metadata": {},
   "outputs": [
    {
     "name": "stdout",
     "output_type": "stream",
     "text": [
      "My name is default name\n",
      "My name is hrishi\n"
     ]
    }
   ],
   "source": [
    "myfunc()\n",
    "myfunc('hrishi')"
   ]
  },
  {
   "cell_type": "code",
   "execution_count": 41,
   "id": "808c6bb1",
   "metadata": {},
   "outputs": [],
   "source": [
    "def times2(var):\n",
    "    return var**2"
   ]
  },
  {
   "cell_type": "code",
   "execution_count": 50,
   "id": "fb856c27",
   "metadata": {},
   "outputs": [
    {
     "name": "stdout",
     "output_type": "stream",
     "text": [
      "[1, 4, 9, 16]\n"
     ]
    }
   ],
   "source": [
    "#function with list comprehension\n",
    "j = [1,2,3,4]\n",
    "out3= [(times2(v)) for v in j]\n",
    "print(out3)"
   ]
  },
  {
   "cell_type": "code",
   "execution_count": 47,
   "id": "90c649b6",
   "metadata": {},
   "outputs": [
    {
     "name": "stdout",
     "output_type": "stream",
     "text": [
      "[1, 4, 9, 16]\n"
     ]
    }
   ],
   "source": [
    "out = []\n",
    "k = [1,2,3,4]\n",
    "for new in k:\n",
    "    out.append(times2(new))\n",
    "print(out)"
   ]
  },
  {
   "cell_type": "markdown",
   "id": "5b9e5a35",
   "metadata": {},
   "source": [
    "**MAP**"
   ]
  },
  {
   "cell_type": "code",
   "execution_count": 55,
   "id": "991d834d",
   "metadata": {},
   "outputs": [
    {
     "data": {
      "text/plain": [
       "<map at 0x223a59be640>"
      ]
     },
     "execution_count": 55,
     "metadata": {},
     "output_type": "execute_result"
    }
   ],
   "source": [
    "#It is used to apply a function to list in one step\n",
    "\n",
    "list3 = [1,2,3,4]\n",
    "b = map(times2,list3)\n",
    "#map(function,list)\n",
    "b"
   ]
  },
  {
   "cell_type": "code",
   "execution_count": 56,
   "id": "4fdd751e",
   "metadata": {},
   "outputs": [
    {
     "data": {
      "text/plain": [
       "[1, 4, 9, 16]"
      ]
     },
     "execution_count": 56,
     "metadata": {},
     "output_type": "execute_result"
    }
   ],
   "source": [
    "list(b)"
   ]
  },
  {
   "cell_type": "code",
   "execution_count": 60,
   "id": "acda967a",
   "metadata": {},
   "outputs": [
    {
     "data": {
      "text/plain": [
       "[1, 4, 9, 16]"
      ]
     },
     "execution_count": 60,
     "metadata": {},
     "output_type": "execute_result"
    }
   ],
   "source": [
    "#lambda expression\n",
    "#when theres no need to define an entire function but you need to get the job done\n",
    "\n",
    "list(map(lambda num: num**2,list3))\n",
    "\n",
    "#def function(num)\n",
    "#      return num**2\n",
    "#\n",
    "#      is equal to\n",
    "#\n",
    "#  lambda num: num**2"
   ]
  },
  {
   "cell_type": "code",
   "execution_count": null,
   "id": "ee6b4875",
   "metadata": {},
   "outputs": [],
   "source": [
    "#filter\n",
    "#shows things based on conditions passed\n",
    "filter\n"
   ]
  },
  {
   "cell_type": "code",
   "execution_count": 63,
   "id": "c75b6674",
   "metadata": {},
   "outputs": [
    {
     "data": {
      "text/plain": [
       "[2, 4]"
      ]
     },
     "execution_count": 63,
     "metadata": {},
     "output_type": "execute_result"
    }
   ],
   "source": [
    "list(filter(lambda num: num%2 == 0,list3))\n",
    "#only returned even numbers because of conditon"
   ]
  },
  {
   "cell_type": "code",
   "execution_count": 64,
   "id": "1a9bd5f1",
   "metadata": {},
   "outputs": [
    {
     "data": {
      "text/plain": [
       "['My', 'name', 'is', '#', 'hrishi', 'pawar']"
      ]
     },
     "execution_count": 64,
     "metadata": {},
     "output_type": "execute_result"
    }
   ],
   "source": [
    "#String Methods\n",
    "string1 = 'My name is # hrishi pawar'\n",
    "string1.split()\n",
    "#string1. press tab to see all methods"
   ]
  },
  {
   "cell_type": "code",
   "execution_count": 66,
   "id": "e73a42aa",
   "metadata": {},
   "outputs": [
    {
     "data": {
      "text/plain": [
       "['My name is ', ' hrishi pawar']"
      ]
     },
     "execution_count": 66,
     "metadata": {},
     "output_type": "execute_result"
    }
   ],
   "source": [
    "string1.split('#')\n",
    "#splits at value passed"
   ]
  },
  {
   "cell_type": "code",
   "execution_count": 68,
   "id": "5999504f",
   "metadata": {},
   "outputs": [
    {
     "data": {
      "text/plain": [
       "{'a': 1, 'b': 2, 'c': 3}"
      ]
     },
     "execution_count": 68,
     "metadata": {},
     "output_type": "execute_result"
    }
   ],
   "source": [
    "#String methods for dictionary\n",
    "dd = {'a': 1, 'b':2, 'c':3}\n",
    "dd"
   ]
  },
  {
   "cell_type": "code",
   "execution_count": 71,
   "id": "c520140a",
   "metadata": {},
   "outputs": [
    {
     "data": {
      "text/plain": [
       "dict_items([('a', 1), ('b', 2), ('c', 3)])"
      ]
     },
     "execution_count": 71,
     "metadata": {},
     "output_type": "execute_result"
    }
   ],
   "source": [
    "dd.items()"
   ]
  },
  {
   "cell_type": "code",
   "execution_count": 72,
   "id": "35c130ad",
   "metadata": {},
   "outputs": [
    {
     "data": {
      "text/plain": [
       "dict_keys(['a', 'b', 'c'])"
      ]
     },
     "execution_count": 72,
     "metadata": {},
     "output_type": "execute_result"
    }
   ],
   "source": [
    "dd.keys()"
   ]
  },
  {
   "cell_type": "code",
   "execution_count": 73,
   "id": "9adb0f54",
   "metadata": {},
   "outputs": [
    {
     "data": {
      "text/plain": [
       "dict_values([1, 2, 3])"
      ]
     },
     "execution_count": 73,
     "metadata": {},
     "output_type": "execute_result"
    }
   ],
   "source": [
    "dd.values()\n",
    "#wont give in order"
   ]
  },
  {
   "cell_type": "code",
   "execution_count": 75,
   "id": "8df03cd3",
   "metadata": {},
   "outputs": [
    {
     "data": {
      "text/plain": [
       "4"
      ]
     },
     "execution_count": 75,
     "metadata": {},
     "output_type": "execute_result"
    }
   ],
   "source": [
    "#String methods for list\n",
    "list = [1,2,3,4]\n",
    "list.pop()\n",
    "#will remove last item and the change will be permanent"
   ]
  },
  {
   "cell_type": "code",
   "execution_count": 76,
   "id": "d7e2fa51",
   "metadata": {},
   "outputs": [],
   "source": [
    "# in operator\n",
    "#to check something this is used\n",
    "\n",
    "jk = [1,2,3,4,'a','b','c']\n"
   ]
  },
  {
   "cell_type": "code",
   "execution_count": 77,
   "id": "4e19a0b7",
   "metadata": {},
   "outputs": [
    {
     "data": {
      "text/plain": [
       "True"
      ]
     },
     "execution_count": 77,
     "metadata": {},
     "output_type": "execute_result"
    }
   ],
   "source": [
    "\"c\" in jk"
   ]
  },
  {
   "cell_type": "code",
   "execution_count": 78,
   "id": "45a9c88c",
   "metadata": {},
   "outputs": [
    {
     "data": {
      "text/plain": [
       "False"
      ]
     },
     "execution_count": 78,
     "metadata": {},
     "output_type": "execute_result"
    }
   ],
   "source": [
    "'f' in jk"
   ]
  },
  {
   "cell_type": "code",
   "execution_count": 79,
   "id": "aaffaaa0",
   "metadata": {},
   "outputs": [
    {
     "data": {
      "text/plain": [
       "False"
      ]
     },
     "execution_count": 79,
     "metadata": {},
     "output_type": "execute_result"
    }
   ],
   "source": [
    "'A' in jk"
   ]
  },
  {
   "cell_type": "code",
   "execution_count": 86,
   "id": "7b7b66ba",
   "metadata": {},
   "outputs": [
    {
     "name": "stdout",
     "output_type": "stream",
     "text": [
      "1\n",
      "2\n",
      "3\n"
     ]
    }
   ],
   "source": [
    "#Tuple unpacking\n",
    "\n",
    "list4 = [(1,4),(2,5),(3,6)]\n",
    "\n",
    "for (a,b) in list4:\n",
    "    print(a)\n",
    "    "
   ]
  },
  {
   "cell_type": "code",
   "execution_count": 87,
   "id": "d7bd3c01",
   "metadata": {},
   "outputs": [
    {
     "name": "stdout",
     "output_type": "stream",
     "text": [
      "4\n",
      "5\n",
      "6\n"
     ]
    }
   ],
   "source": [
    "for (a,b) in list4:\n",
    "    print(b)"
   ]
  },
  {
   "cell_type": "code",
   "execution_count": null,
   "id": "28150437",
   "metadata": {},
   "outputs": [],
   "source": []
  }
 ],
 "metadata": {
  "kernelspec": {
   "display_name": "Python 3 (ipykernel)",
   "language": "python",
   "name": "python3"
  },
  "language_info": {
   "codemirror_mode": {
    "name": "ipython",
    "version": 3
   },
   "file_extension": ".py",
   "mimetype": "text/x-python",
   "name": "python",
   "nbconvert_exporter": "python",
   "pygments_lexer": "ipython3",
   "version": "3.9.12"
  }
 },
 "nbformat": 4,
 "nbformat_minor": 5
}
